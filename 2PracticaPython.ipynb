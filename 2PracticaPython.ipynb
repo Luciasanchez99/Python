{
 "cells": [
  {
   "cell_type": "markdown",
   "id": "19ae5ccb",
   "metadata": {},
   "source": [
    "#### EXAMEN CALCETINES"
   ]
  },
  {
   "cell_type": "code",
   "execution_count": 3,
   "id": "decaf2b6",
   "metadata": {},
   "outputs": [],
   "source": [
    "import os"
   ]
  },
  {
   "cell_type": "code",
   "execution_count": 23,
   "id": "72dbc0bc",
   "metadata": {},
   "outputs": [],
   "source": [
    "# Creación de la función para detectar si los calcetines están emparejados o\n",
    "# sobra algún calcetin\n",
    "def cuentaparejas(calcetines):\n",
    "    contador1= 0\n",
    "    contador2=0\n",
    "    for calcetin in calcetines:\n",
    "        if calcetin== 'N':\n",
    "            contador1+=1\n",
    "        elif calcetin== 'G':\n",
    "            contador2+=1\n",
    "        \n",
    "    if contador1%2==0 and contador2%2==0:\n",
    "        return 'calcetines emparejados'\n",
    "        \n",
    "    if contador1%2 !=0 and contador2%2==0:\n",
    "        return 'calcetin negro'\n",
    "        \n",
    "    if contador1%2== 0 and contador2%2 !=0:\n",
    "        return 'calcetin gris'\n",
    "        \n",
    "    else:\n",
    "        return 'distintos calcetines'\n"
   ]
  },
  {
   "cell_type": "code",
   "execution_count": 22,
   "id": "73697dc5",
   "metadata": {},
   "outputs": [
    {
     "name": "stdout",
     "output_type": "stream",
     "text": [
      " calcetines emparejados\n",
      "calcetin negro\n",
      "distintos calcetines\n"
     ]
    }
   ],
   "source": [
    "#Para leer el texto y poder decir a raiz de las letras N y G, si los calcetines\n",
    "#están emparejados o no\n",
    "\n",
    "filename = os.getcwd() + \"\\\\PRUEBAEXAMEN.txt\"\n",
    "\n",
    "with open(filename, \"r\") as fichero:\n",
    "    lineas=fichero.readlines()\n",
    "  \n",
    "for linea in lineas:\n",
    "    calcetines= linea.strip().split()\n",
    "    if calcetines[0] == '.':\n",
    "        break\n",
    "    print(cuentaparejas(calcetines))\n",
    "        \n",
    "        \n",
    "            "
   ]
  },
  {
   "cell_type": "code",
   "execution_count": null,
   "id": "7f8f49e2",
   "metadata": {},
   "outputs": [],
   "source": []
  }
 ],
 "metadata": {
  "kernelspec": {
   "display_name": "Python 3 (ipykernel)",
   "language": "python",
   "name": "python3"
  },
  "language_info": {
   "codemirror_mode": {
    "name": "ipython",
    "version": 3
   },
   "file_extension": ".py",
   "mimetype": "text/x-python",
   "name": "python",
   "nbconvert_exporter": "python",
   "pygments_lexer": "ipython3",
   "version": "3.9.13"
  }
 },
 "nbformat": 4,
 "nbformat_minor": 5
}
