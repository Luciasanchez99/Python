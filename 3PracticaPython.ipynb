{
 "cells": [
  {
   "cell_type": "code",
   "execution_count": 1,
   "id": "86f0d55a",
   "metadata": {},
   "outputs": [],
   "source": [
    "import os"
   ]
  },
  {
   "cell_type": "code",
   "execution_count": 2,
   "id": "f103edaa",
   "metadata": {},
   "outputs": [],
   "source": [
    "#Se ha creado una función que devuelve el siguiente número si el número es par y el numero anterior si es impar\n",
    "\n",
    "def pagina(n):\n",
    "    if n%2 == 0:\n",
    "        sol = n+1\n",
    "    else:\n",
    "        sol = n-1\n",
    "    return sol"
   ]
  },
  {
   "cell_type": "code",
   "execution_count": 7,
   "id": "cb8c1fdf",
   "metadata": {},
   "outputs": [
    {
     "name": "stdout",
     "output_type": "stream",
     "text": [
      "3\n",
      "11\n",
      "10\n"
     ]
    }
   ],
   "source": [
    "# Se busca paginar un libro para que quede el numero de la derecha el impar y a mano izquierda el numero par. \n",
    "\n",
    "filename = os.getcwd() + \"\\\\pagina.txt\"\n",
    "\n",
    "with open(filename, \"r\") as fichero:\n",
    "    \n",
    "    veces = int(fichero.readline())\n",
    "    for i in range(1,veces+1):\n",
    "        linea = fichero.readline().strip()\n",
    "        numero = int(linea)\n",
    "        if 2 <= numero <= 1000:\n",
    "            print(pagina(numero))"
   ]
  }
 ],
 "metadata": {
  "kernelspec": {
   "display_name": "Python 3 (ipykernel)",
   "language": "python",
   "name": "python3"
  },
  "language_info": {
   "codemirror_mode": {
    "name": "ipython",
    "version": 3
   },
   "file_extension": ".py",
   "mimetype": "text/x-python",
   "name": "python",
   "nbconvert_exporter": "python",
   "pygments_lexer": "ipython3",
   "version": "3.9.13"
  }
 },
 "nbformat": 4,
 "nbformat_minor": 5
}
